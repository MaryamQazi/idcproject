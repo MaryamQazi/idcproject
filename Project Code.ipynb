{
 "cells": [
  {
   "cell_type": "markdown",
   "metadata": {},
   "source": [
    "# Water Quality"
   ]
  },
  {
   "cell_type": "markdown",
   "metadata": {},
   "source": [
    "Using dataset from: https://www.kaggle.com/prakharsrivastava01/drinkable-water-dataset\n",
    "\n",
    "The dataset contains details about the chemical composition of 26 samples of water. The dataset determines whether or not the levels of these chemical elements exceed the acceptable levels for water to be classified as safe or not."
   ]
  },
  {
   "cell_type": "code",
   "execution_count": 147,
   "metadata": {},
   "outputs": [],
   "source": [
    "import numpy as np\n",
    "import pandas as pd\n",
    "from sklearn.tree import DecisionTreeClassifier\n",
    "from sklearn.model_selection import train_test_split\n",
    "from sklearn import metrics"
   ]
  },
  {
   "cell_type": "markdown",
   "metadata": {},
   "source": [
    "## Part 1 - Questions"
   ]
  },
  {
   "cell_type": "code",
   "execution_count": 148,
   "metadata": {},
   "outputs": [
    {
     "data": {
      "text/html": [
       "<div>\n",
       "<style scoped>\n",
       "    .dataframe tbody tr th:only-of-type {\n",
       "        vertical-align: middle;\n",
       "    }\n",
       "\n",
       "    .dataframe tbody tr th {\n",
       "        vertical-align: top;\n",
       "    }\n",
       "\n",
       "    .dataframe thead th {\n",
       "        text-align: right;\n",
       "    }\n",
       "</style>\n",
       "<table border=\"1\" class=\"dataframe\">\n",
       "  <thead>\n",
       "    <tr style=\"text-align: right;\">\n",
       "      <th></th>\n",
       "      <th>calcium (60 - 70)</th>\n",
       "      <th>magnesium (150 - 500)</th>\n",
       "      <th>sodium (16 - 20)</th>\n",
       "      <th>copper (1.1 - 1.2)</th>\n",
       "      <th>iron (0.1 - 0.2)</th>\n",
       "      <th>chlorine (250 -260)</th>\n",
       "      <th>Drinkable</th>\n",
       "    </tr>\n",
       "  </thead>\n",
       "  <tbody>\n",
       "    <tr>\n",
       "      <th>0</th>\n",
       "      <td>60</td>\n",
       "      <td>150</td>\n",
       "      <td>20</td>\n",
       "      <td>1.2</td>\n",
       "      <td>0.2</td>\n",
       "      <td>250</td>\n",
       "      <td>1</td>\n",
       "    </tr>\n",
       "    <tr>\n",
       "      <th>1</th>\n",
       "      <td>70</td>\n",
       "      <td>500</td>\n",
       "      <td>16</td>\n",
       "      <td>1.1</td>\n",
       "      <td>0.1</td>\n",
       "      <td>260</td>\n",
       "      <td>1</td>\n",
       "    </tr>\n",
       "    <tr>\n",
       "      <th>2</th>\n",
       "      <td>30</td>\n",
       "      <td>200</td>\n",
       "      <td>21</td>\n",
       "      <td>1.5</td>\n",
       "      <td>0.1</td>\n",
       "      <td>252</td>\n",
       "      <td>0</td>\n",
       "    </tr>\n",
       "    <tr>\n",
       "      <th>3</th>\n",
       "      <td>80</td>\n",
       "      <td>200</td>\n",
       "      <td>17</td>\n",
       "      <td>1.2</td>\n",
       "      <td>0.1</td>\n",
       "      <td>249</td>\n",
       "      <td>1</td>\n",
       "    </tr>\n",
       "    <tr>\n",
       "      <th>4</th>\n",
       "      <td>60</td>\n",
       "      <td>20</td>\n",
       "      <td>10</td>\n",
       "      <td>0.5</td>\n",
       "      <td>0.2</td>\n",
       "      <td>270</td>\n",
       "      <td>0</td>\n",
       "    </tr>\n",
       "  </tbody>\n",
       "</table>\n",
       "</div>"
      ],
      "text/plain": [
       "   calcium (60 - 70)  magnesium (150 - 500)  sodium (16 - 20)  \\\n",
       "0                 60                    150                20   \n",
       "1                 70                    500                16   \n",
       "2                 30                    200                21   \n",
       "3                 80                    200                17   \n",
       "4                 60                     20                10   \n",
       "\n",
       "   copper (1.1 - 1.2)  iron (0.1 - 0.2)  chlorine (250 -260)  Drinkable  \n",
       "0                 1.2               0.2                  250          1  \n",
       "1                 1.1               0.1                  260          1  \n",
       "2                 1.5               0.1                  252          0  \n",
       "3                 1.2               0.1                  249          1  \n",
       "4                 0.5               0.2                  270          0  "
      ]
     },
     "execution_count": 148,
     "metadata": {},
     "output_type": "execute_result"
    }
   ],
   "source": [
    "data = pd.read_csv(\"drinkable_water_dataset.csv\")\n",
    "data.head()"
   ]
  },
  {
   "cell_type": "markdown",
   "metadata": {},
   "source": [
    "### 1. What would be the best way to handle missing values in this data set? Use that method to handle the missing values."
   ]
  },
  {
   "cell_type": "code",
   "execution_count": 149,
   "metadata": {},
   "outputs": [
    {
     "name": "stdout",
     "output_type": "stream",
     "text": [
      "<class 'pandas.core.frame.DataFrame'>\n",
      "RangeIndex: 26 entries, 0 to 25\n",
      "Data columns (total 7 columns):\n",
      " #   Column                 Non-Null Count  Dtype  \n",
      "---  ------                 --------------  -----  \n",
      " 0   calcium (60 - 70)      26 non-null     int64  \n",
      " 1   magnesium (150 - 500)  26 non-null     int64  \n",
      " 2   sodium (16 - 20)       26 non-null     int64  \n",
      " 3   copper (1.1 - 1.2)     26 non-null     float64\n",
      " 4   iron (0.1 - 0.2)       26 non-null     float64\n",
      " 5   chlorine (250 -260)    26 non-null     int64  \n",
      " 6   Drinkable              26 non-null     int64  \n",
      "dtypes: float64(2), int64(5)\n",
      "memory usage: 1.5 KB\n",
      "None\n"
     ]
    }
   ],
   "source": [
    "print(data.info())"
   ]
  },
  {
   "cell_type": "code",
   "execution_count": 150,
   "metadata": {},
   "outputs": [
    {
     "data": {
      "text/plain": [
       "calcium (60 - 70)        0\n",
       "magnesium (150 - 500)    0\n",
       "sodium (16 - 20)         0\n",
       "copper (1.1 - 1.2)       0\n",
       "iron (0.1 - 0.2)         0\n",
       "chlorine (250 -260)      0\n",
       "Drinkable                0\n",
       "dtype: int64"
      ]
     },
     "execution_count": 150,
     "metadata": {},
     "output_type": "execute_result"
    }
   ],
   "source": [
    "data.isna().sum()"
   ]
  },
  {
   "cell_type": "markdown",
   "metadata": {},
   "source": [
    "There are no missing values to handle in this data set"
   ]
  },
  {
   "cell_type": "markdown",
   "metadata": {},
   "source": [
    "### 2. Find out which element in the water is causing the most degradation?"
   ]
  },
  {
   "cell_type": "code",
   "execution_count": 151,
   "metadata": {},
   "outputs": [
    {
     "data": {
      "text/html": [
       "<div>\n",
       "<style scoped>\n",
       "    .dataframe tbody tr th:only-of-type {\n",
       "        vertical-align: middle;\n",
       "    }\n",
       "\n",
       "    .dataframe tbody tr th {\n",
       "        vertical-align: top;\n",
       "    }\n",
       "\n",
       "    .dataframe thead th {\n",
       "        text-align: right;\n",
       "    }\n",
       "</style>\n",
       "<table border=\"1\" class=\"dataframe\">\n",
       "  <thead>\n",
       "    <tr style=\"text-align: right;\">\n",
       "      <th></th>\n",
       "      <th>calcium (60 - 70)</th>\n",
       "      <th>magnesium (150 - 500)</th>\n",
       "      <th>sodium (16 - 20)</th>\n",
       "      <th>copper (1.1 - 1.2)</th>\n",
       "      <th>iron (0.1 - 0.2)</th>\n",
       "      <th>chlorine (250 -260)</th>\n",
       "      <th>Drinkable</th>\n",
       "    </tr>\n",
       "  </thead>\n",
       "  <tbody>\n",
       "    <tr>\n",
       "      <th>count</th>\n",
       "      <td>26.000000</td>\n",
       "      <td>26.000000</td>\n",
       "      <td>26.000000</td>\n",
       "      <td>26.000000</td>\n",
       "      <td>26.000000</td>\n",
       "      <td>26.000000</td>\n",
       "      <td>26.000000</td>\n",
       "    </tr>\n",
       "    <tr>\n",
       "      <th>mean</th>\n",
       "      <td>70.307692</td>\n",
       "      <td>421.846154</td>\n",
       "      <td>27.384615</td>\n",
       "      <td>1.901154</td>\n",
       "      <td>0.926154</td>\n",
       "      <td>320.961538</td>\n",
       "      <td>0.500000</td>\n",
       "    </tr>\n",
       "    <tr>\n",
       "      <th>std</th>\n",
       "      <td>18.707794</td>\n",
       "      <td>234.326045</td>\n",
       "      <td>19.384689</td>\n",
       "      <td>1.531964</td>\n",
       "      <td>1.834346</td>\n",
       "      <td>142.708789</td>\n",
       "      <td>0.509902</td>\n",
       "    </tr>\n",
       "    <tr>\n",
       "      <th>min</th>\n",
       "      <td>10.000000</td>\n",
       "      <td>20.000000</td>\n",
       "      <td>2.000000</td>\n",
       "      <td>0.500000</td>\n",
       "      <td>0.100000</td>\n",
       "      <td>159.000000</td>\n",
       "      <td>0.000000</td>\n",
       "    </tr>\n",
       "    <tr>\n",
       "      <th>25%</th>\n",
       "      <td>63.250000</td>\n",
       "      <td>200.000000</td>\n",
       "      <td>16.250000</td>\n",
       "      <td>1.147500</td>\n",
       "      <td>0.120000</td>\n",
       "      <td>252.000000</td>\n",
       "      <td>0.000000</td>\n",
       "    </tr>\n",
       "    <tr>\n",
       "      <th>50%</th>\n",
       "      <td>69.500000</td>\n",
       "      <td>407.000000</td>\n",
       "      <td>19.000000</td>\n",
       "      <td>1.200000</td>\n",
       "      <td>0.200000</td>\n",
       "      <td>259.500000</td>\n",
       "      <td>0.500000</td>\n",
       "    </tr>\n",
       "    <tr>\n",
       "      <th>75%</th>\n",
       "      <td>83.750000</td>\n",
       "      <td>603.250000</td>\n",
       "      <td>27.500000</td>\n",
       "      <td>1.750000</td>\n",
       "      <td>0.775000</td>\n",
       "      <td>306.750000</td>\n",
       "      <td>1.000000</td>\n",
       "    </tr>\n",
       "    <tr>\n",
       "      <th>max</th>\n",
       "      <td>100.000000</td>\n",
       "      <td>1000.000000</td>\n",
       "      <td>71.000000</td>\n",
       "      <td>7.300000</td>\n",
       "      <td>8.900000</td>\n",
       "      <td>777.000000</td>\n",
       "      <td>1.000000</td>\n",
       "    </tr>\n",
       "  </tbody>\n",
       "</table>\n",
       "</div>"
      ],
      "text/plain": [
       "       calcium (60 - 70)  magnesium (150 - 500)  sodium (16 - 20)  \\\n",
       "count          26.000000              26.000000         26.000000   \n",
       "mean           70.307692             421.846154         27.384615   \n",
       "std            18.707794             234.326045         19.384689   \n",
       "min            10.000000              20.000000          2.000000   \n",
       "25%            63.250000             200.000000         16.250000   \n",
       "50%            69.500000             407.000000         19.000000   \n",
       "75%            83.750000             603.250000         27.500000   \n",
       "max           100.000000            1000.000000         71.000000   \n",
       "\n",
       "       copper (1.1 - 1.2)  iron (0.1 - 0.2)  chlorine (250 -260)  Drinkable  \n",
       "count           26.000000         26.000000            26.000000  26.000000  \n",
       "mean             1.901154          0.926154           320.961538   0.500000  \n",
       "std              1.531964          1.834346           142.708789   0.509902  \n",
       "min              0.500000          0.100000           159.000000   0.000000  \n",
       "25%              1.147500          0.120000           252.000000   0.000000  \n",
       "50%              1.200000          0.200000           259.500000   0.500000  \n",
       "75%              1.750000          0.775000           306.750000   1.000000  \n",
       "max              7.300000          8.900000           777.000000   1.000000  "
      ]
     },
     "execution_count": 151,
     "metadata": {},
     "output_type": "execute_result"
    }
   ],
   "source": [
    "data.describe()"
   ]
  },
  {
   "cell_type": "markdown",
   "metadata": {},
   "source": [
    "### 3. Find the correlation of each column with water potability."
   ]
  },
  {
   "cell_type": "code",
   "execution_count": 152,
   "metadata": {},
   "outputs": [
    {
     "data": {
      "text/html": [
       "<div>\n",
       "<style scoped>\n",
       "    .dataframe tbody tr th:only-of-type {\n",
       "        vertical-align: middle;\n",
       "    }\n",
       "\n",
       "    .dataframe tbody tr th {\n",
       "        vertical-align: top;\n",
       "    }\n",
       "\n",
       "    .dataframe thead th {\n",
       "        text-align: right;\n",
       "    }\n",
       "</style>\n",
       "<table border=\"1\" class=\"dataframe\">\n",
       "  <thead>\n",
       "    <tr style=\"text-align: right;\">\n",
       "      <th></th>\n",
       "      <th>calcium (60 - 70)</th>\n",
       "      <th>magnesium (150 - 500)</th>\n",
       "      <th>sodium (16 - 20)</th>\n",
       "      <th>copper (1.1 - 1.2)</th>\n",
       "      <th>iron (0.1 - 0.2)</th>\n",
       "      <th>chlorine (250 -260)</th>\n",
       "      <th>Drinkable</th>\n",
       "    </tr>\n",
       "  </thead>\n",
       "  <tbody>\n",
       "    <tr>\n",
       "      <th>calcium (60 - 70)</th>\n",
       "      <td>1.000000</td>\n",
       "      <td>0.070116</td>\n",
       "      <td>0.541348</td>\n",
       "      <td>0.369231</td>\n",
       "      <td>0.134571</td>\n",
       "      <td>0.329741</td>\n",
       "      <td>-0.188696</td>\n",
       "    </tr>\n",
       "    <tr>\n",
       "      <th>magnesium (150 - 500)</th>\n",
       "      <td>0.070116</td>\n",
       "      <td>1.000000</td>\n",
       "      <td>0.454925</td>\n",
       "      <td>0.497022</td>\n",
       "      <td>0.461988</td>\n",
       "      <td>0.458954</td>\n",
       "      <td>-0.484084</td>\n",
       "    </tr>\n",
       "    <tr>\n",
       "      <th>sodium (16 - 20)</th>\n",
       "      <td>0.541348</td>\n",
       "      <td>0.454925</td>\n",
       "      <td>1.000000</td>\n",
       "      <td>0.869753</td>\n",
       "      <td>0.422089</td>\n",
       "      <td>0.321525</td>\n",
       "      <td>-0.517994</td>\n",
       "    </tr>\n",
       "    <tr>\n",
       "      <th>copper (1.1 - 1.2)</th>\n",
       "      <td>0.369231</td>\n",
       "      <td>0.497022</td>\n",
       "      <td>0.869753</td>\n",
       "      <td>1.000000</td>\n",
       "      <td>0.425794</td>\n",
       "      <td>0.146212</td>\n",
       "      <td>-0.495934</td>\n",
       "    </tr>\n",
       "    <tr>\n",
       "      <th>iron (0.1 - 0.2)</th>\n",
       "      <td>0.134571</td>\n",
       "      <td>0.461988</td>\n",
       "      <td>0.422089</td>\n",
       "      <td>0.425794</td>\n",
       "      <td>1.000000</td>\n",
       "      <td>0.167695</td>\n",
       "      <td>-0.425943</td>\n",
       "    </tr>\n",
       "    <tr>\n",
       "      <th>chlorine (250 -260)</th>\n",
       "      <td>0.329741</td>\n",
       "      <td>0.458954</td>\n",
       "      <td>0.321525</td>\n",
       "      <td>0.146212</td>\n",
       "      <td>0.167695</td>\n",
       "      <td>1.000000</td>\n",
       "      <td>-0.524135</td>\n",
       "    </tr>\n",
       "    <tr>\n",
       "      <th>Drinkable</th>\n",
       "      <td>-0.188696</td>\n",
       "      <td>-0.484084</td>\n",
       "      <td>-0.517994</td>\n",
       "      <td>-0.495934</td>\n",
       "      <td>-0.425943</td>\n",
       "      <td>-0.524135</td>\n",
       "      <td>1.000000</td>\n",
       "    </tr>\n",
       "  </tbody>\n",
       "</table>\n",
       "</div>"
      ],
      "text/plain": [
       "                       calcium (60 - 70)  magnesium (150 - 500)  \\\n",
       "calcium (60 - 70)               1.000000               0.070116   \n",
       "magnesium (150 - 500)           0.070116               1.000000   \n",
       "sodium (16 - 20)                0.541348               0.454925   \n",
       "copper (1.1 - 1.2)              0.369231               0.497022   \n",
       "iron (0.1 - 0.2)                0.134571               0.461988   \n",
       "chlorine (250 -260)             0.329741               0.458954   \n",
       "Drinkable                      -0.188696              -0.484084   \n",
       "\n",
       "                       sodium (16 - 20)  copper (1.1 - 1.2)  iron (0.1 - 0.2)  \\\n",
       "calcium (60 - 70)              0.541348            0.369231          0.134571   \n",
       "magnesium (150 - 500)          0.454925            0.497022          0.461988   \n",
       "sodium (16 - 20)               1.000000            0.869753          0.422089   \n",
       "copper (1.1 - 1.2)             0.869753            1.000000          0.425794   \n",
       "iron (0.1 - 0.2)               0.422089            0.425794          1.000000   \n",
       "chlorine (250 -260)            0.321525            0.146212          0.167695   \n",
       "Drinkable                     -0.517994           -0.495934         -0.425943   \n",
       "\n",
       "                       chlorine (250 -260)  Drinkable  \n",
       "calcium (60 - 70)                 0.329741  -0.188696  \n",
       "magnesium (150 - 500)             0.458954  -0.484084  \n",
       "sodium (16 - 20)                  0.321525  -0.517994  \n",
       "copper (1.1 - 1.2)                0.146212  -0.495934  \n",
       "iron (0.1 - 0.2)                  0.167695  -0.425943  \n",
       "chlorine (250 -260)               1.000000  -0.524135  \n",
       "Drinkable                        -0.524135   1.000000  "
      ]
     },
     "execution_count": 152,
     "metadata": {},
     "output_type": "execute_result"
    }
   ],
   "source": [
    "data.corr()"
   ]
  },
  {
   "cell_type": "code",
   "execution_count": 153,
   "metadata": {},
   "outputs": [
    {
     "data": {
      "image/png": "[encoded data removed]",
      "text/plain": [
       "<Figure size 288x288 with 1 Axes>"
      ]
     },
     "metadata": {
      "needs_background": "light"
     },
     "output_type": "display_data"
    }
   ],
   "source": [
    "import matplotlib.pyplot as plt\n",
    "\n",
    "plt.matshow(data.corr())\n",
    "\n",
    "plt.show()"
   ]
  },
  {
   "cell_type": "markdown",
   "metadata": {},
   "source": [
    "### 4. Design a model to predict the water potability and also determine it’s accuracy."
   ]
  },
  {
   "cell_type": "code",
   "execution_count": 161,
   "metadata": {},
   "outputs": [],
   "source": [
    "feature_cols = ['calcium (60 - 70)', 'magnesium (150 - 500)', 'sodium (16 - 20)',\n",
    "                'copper (1.1 - 1.2)', 'iron (0.1 - 0.2)', 'chlorine (250 -260)']\n",
    "X = data[feature_cols]\n",
    "y = data.Drinkable"
   ]
  },
  {
   "cell_type": "code",
   "execution_count": 162,
   "metadata": {},
   "outputs": [],
   "source": [
    "X_train, X_test, y_train, y_test = train_test_split(X, y, test_size = 0.3, random_state=42) \n",
    "\n",
    "#Splitting into 70% for training set and 30% for test set"
   ]
  },
  {
   "cell_type": "code",
   "execution_count": 163,
   "metadata": {},
   "outputs": [],
   "source": [
    "dtclf = DecisionTreeClassifier(criterion=\"entropy\", max_depth=5)\n",
    "dtclf = dtclf.fit(X_train,y_train)\n",
    "y_pred = dtclf.predict(X_test)"
   ]
  },
  {
   "cell_type": "code",
   "execution_count": 164,
   "metadata": {},
   "outputs": [
    {
     "name": "stdout",
     "output_type": "stream",
     "text": [
      "Decision Tree has an accuracy of 1.0\n"
     ]
    }
   ],
   "source": [
    "print(\"Decision Tree has an accuracy of\", metrics.accuracy_score(y_test, y_pred))"
   ]
  },
  {
   "cell_type": "markdown",
   "metadata": {},
   "source": [
    "### 5. Visualize at least three columns using a bar chart and potability using a pie chart."
   ]
  },
  {
   "cell_type": "code",
   "execution_count": 165,
   "metadata": {},
   "outputs": [
    {
     "data": {
      "image/png": "[encoded data removed]",
      "text/plain": [
       "<Figure size 720x432 with 1 Axes>"
      ]
     },
     "metadata": {},
     "output_type": "display_data"
    }
   ],
   "source": [
    "import matplotlib.pyplot as plt\n",
    "\n",
    "data= pd.read_csv(\"drinkable_water_dataset.csv\")\n",
    "\n",
    "plt.figure(figsize = (10,6))\n",
    "data.Drinkable.value_counts().plot.pie(autopct = \"%.1f%%\")\n",
    "plt.title('Potability pie chart', pad = 20, fontdict = {'size' : 15, 'color' : 'black', 'weight' : 'bold'})\n",
    "plt.show()"
   ]
  },
  {
   "cell_type": "code",
   "execution_count": 166,
   "metadata": {},
   "outputs": [
    {
     "data": {
      "text/plain": [
       "<AxesSubplot:ylabel='Frequency'>"
      ]
     },
     "execution_count": 166,
     "metadata": {},
     "output_type": "execute_result"
    },
    {
     "data": {
      "image/png": "[encoded data removed]",
      "text/plain": [
       "<Figure size 864x432 with 1 Axes>"
      ]
     },
     "metadata": {
      "needs_background": "light"
     },
     "output_type": "display_data"
    }
   ],
   "source": [
    "data['calcium (60 - 70)'].plot(kind='hist',bins=5,figsize = (12,6))"
   ]
  },
  {
   "cell_type": "code",
   "execution_count": 167,
   "metadata": {},
   "outputs": [
    {
     "data": {
      "text/plain": [
       "<AxesSubplot:ylabel='Frequency'>"
      ]
     },
     "execution_count": 167,
     "metadata": {},
     "output_type": "execute_result"
    },
    {
     "data": {
      "image/png": "[encoded data removed]",
      "text/plain": [
       "<Figure size 864x432 with 1 Axes>"
      ]
     },
     "metadata": {
      "needs_background": "light"
     },
     "output_type": "display_data"
    }
   ],
   "source": [
    "data['magnesium (150 - 500)'].plot(kind='hist',bins=5,figsize = (12,6))"
   ]
  },
  {
   "cell_type": "code",
   "execution_count": 168,
   "metadata": {},
   "outputs": [
    {
     "data": {
      "text/plain": [
       "<AxesSubplot:ylabel='Frequency'>"
      ]
     },
     "execution_count": 168,
     "metadata": {},
     "output_type": "execute_result"
    },
    {
     "data": {
      "image/png": "[encoded data removed]",
      "text/plain": [
       "<Figure size 864x432 with 1 Axes>"
      ]
     },
     "metadata": {
      "needs_background": "light"
     },
     "output_type": "display_data"
    }
   ],
   "source": [
    "data['sodium (16 - 20)'].plot(kind='hist',bins=5,figsize = (12,6))"
   ]
  },
  {
   "cell_type": "code",
   "execution_count": 169,
   "metadata": {},
   "outputs": [
    {
     "data": {
      "text/plain": [
       "<AxesSubplot:ylabel='Frequency'>"
      ]
     },
     "execution_count": 169,
     "metadata": {},
     "output_type": "execute_result"
    },
    {
     "data": {
      "image/png": "[encoded data removed]",
      "text/plain": [
       "<Figure size 864x432 with 1 Axes>"
      ]
     },
     "metadata": {
      "needs_background": "light"
     },
     "output_type": "display_data"
    }
   ],
   "source": [
    "data['copper (1.1 - 1.2)'].plot(kind='hist',bins=5,figsize = (12,6))"
   ]
  },
  {
   "cell_type": "code",
   "execution_count": 170,
   "metadata": {},
   "outputs": [
    {
     "data": {
      "text/plain": [
       "<AxesSubplot:ylabel='Frequency'>"
      ]
     },
     "execution_count": 170,
     "metadata": {},
     "output_type": "execute_result"
    },
    {
     "data": {
      "image/png": "[encoded data removed]",
      "text/plain": [
       "<Figure size 864x432 with 1 Axes>"
      ]
     },
     "metadata": {
      "needs_background": "light"
     },
     "output_type": "display_data"
    }
   ],
   "source": [
    "data['iron (0.1 - 0.2)'].plot(kind='hist',bins=5,figsize = (12,6))"
   ]
  },
  {
   "cell_type": "code",
   "execution_count": 171,
   "metadata": {},
   "outputs": [
    {
     "data": {
      "text/plain": [
       "<AxesSubplot:ylabel='Frequency'>"
      ]
     },
     "execution_count": 171,
     "metadata": {},
     "output_type": "execute_result"
    },
    {
     "data": {
      "image/png": "[encoded data removed]",
      "text/plain": [
       "<Figure size 864x432 with 1 Axes>"
      ]
     },
     "metadata": {
      "needs_background": "light"
     },
     "output_type": "display_data"
    }
   ],
   "source": [
    "data['chlorine (250 -260)'].plot(kind='hist',bins=5,figsize = (12,6))"
   ]
  },
  {
   "cell_type": "markdown",
   "metadata": {},
   "source": [
    "### 6. Create a new column named Irregularity that contains the name of all those columns that are making that water not potable. All columns in which water is potable"
   ]
  },
  {
   "cell_type": "code",
   "execution_count": null,
   "metadata": {},
   "outputs": [],
   "source": []
  },
  {
   "cell_type": "markdown",
   "metadata": {},
   "source": [
    "### 7. Using the column irregularity create a pie chart that shows the percentage of each attribute of water that makes it not potable."
   ]
  },
  {
   "cell_type": "code",
   "execution_count": null,
   "metadata": {},
   "outputs": [],
   "source": []
  },
  {
   "cell_type": "markdown",
   "metadata": {},
   "source": [
    "### 8. What levels of irregularity in each column cause the water to become unpotable i.e how much of one element is present before water is declared undrinkable?"
   ]
  },
  {
   "cell_type": "code",
   "execution_count": 172,
   "metadata": {},
   "outputs": [
    {
     "data": {
      "text/plain": [
       "10     1\n",
       "30     1\n",
       "60     2\n",
       "61     1\n",
       "62     1\n",
       "63     1\n",
       "64     1\n",
       "65     1\n",
       "67     1\n",
       "69     3\n",
       "70     2\n",
       "76     1\n",
       "77     1\n",
       "80     2\n",
       "85     2\n",
       "87     1\n",
       "89     1\n",
       "90     2\n",
       "100    1\n",
       "Name: calcium (60 - 70), dtype: int64"
      ]
     },
     "execution_count": 172,
     "metadata": {},
     "output_type": "execute_result"
    }
   ],
   "source": [
    "data['calcium (60 - 70)'].value_counts().sort_index(ascending=True) "
   ]
  },
  {
   "cell_type": "code",
   "execution_count": 173,
   "metadata": {},
   "outputs": [
    {
     "name": "stdout",
     "output_type": "stream",
     "text": [
      "-0.18869624727989645\n"
     ]
    }
   ],
   "source": [
    "calcium = data['calcium (60 - 70)']\n",
    "drinkable = data['Drinkable']\n",
    "correlation = calcium.corr(drinkable)\n",
    "print(correlation)"
   ]
  },
  {
   "cell_type": "code",
   "execution_count": 174,
   "metadata": {},
   "outputs": [
    {
     "data": {
      "text/plain": [
       "20      1\n",
       "150     1\n",
       "155     1\n",
       "159     1\n",
       "167     1\n",
       "170     1\n",
       "200     2\n",
       "206     1\n",
       "389     1\n",
       "399     1\n",
       "400     1\n",
       "404     1\n",
       "410     1\n",
       "499     1\n",
       "500     1\n",
       "502     1\n",
       "555     1\n",
       "601     1\n",
       "604     1\n",
       "605     1\n",
       "606     1\n",
       "645     1\n",
       "690     1\n",
       "732     1\n",
       "1000    1\n",
       "Name: magnesium (150 - 500), dtype: int64"
      ]
     },
     "execution_count": 174,
     "metadata": {},
     "output_type": "execute_result"
    }
   ],
   "source": [
    "data['magnesium (150 - 500)'].value_counts().sort_index(ascending=True) "
   ]
  },
  {
   "cell_type": "code",
   "execution_count": 175,
   "metadata": {},
   "outputs": [
    {
     "name": "stdout",
     "output_type": "stream",
     "text": [
      "-0.4840843558129342\n"
     ]
    }
   ],
   "source": [
    "magnesium = data['magnesium (150 - 500)']\n",
    "drinkable = data['Drinkable']\n",
    "correlation = magnesium.corr(drinkable)\n",
    "print(correlation)"
   ]
  },
  {
   "cell_type": "code",
   "execution_count": 176,
   "metadata": {},
   "outputs": [
    {
     "data": {
      "text/plain": [
       "2     1\n",
       "10    1\n",
       "15    1\n",
       "16    4\n",
       "17    3\n",
       "18    3\n",
       "20    3\n",
       "21    1\n",
       "22    1\n",
       "23    1\n",
       "29    1\n",
       "45    1\n",
       "55    1\n",
       "56    1\n",
       "67    2\n",
       "71    1\n",
       "Name: sodium (16 - 20), dtype: int64"
      ]
     },
     "execution_count": 176,
     "metadata": {},
     "output_type": "execute_result"
    }
   ],
   "source": [
    "data['sodium (16 - 20)'].value_counts().sort_index(ascending=True) "
   ]
  },
  {
   "cell_type": "code",
   "execution_count": 177,
   "metadata": {},
   "outputs": [
    {
     "name": "stdout",
     "output_type": "stream",
     "text": [
      "-0.5179936754825298\n"
     ]
    }
   ],
   "source": [
    "sodium = data['sodium (16 - 20)']\n",
    "drinkable = data['Drinkable']\n",
    "correlation = sodium.corr(drinkable)\n",
    "print(correlation)"
   ]
  },
  {
   "cell_type": "code",
   "execution_count": 178,
   "metadata": {},
   "outputs": [
    {
     "data": {
      "text/plain": [
       "0.50    1\n",
       "1.10    5\n",
       "1.13    1\n",
       "1.20    9\n",
       "1.50    2\n",
       "1.60    1\n",
       "1.80    1\n",
       "2.40    1\n",
       "2.50    1\n",
       "3.50    1\n",
       "4.50    1\n",
       "4.90    1\n",
       "7.30    1\n",
       "Name: copper (1.1 - 1.2), dtype: int64"
      ]
     },
     "execution_count": 178,
     "metadata": {},
     "output_type": "execute_result"
    }
   ],
   "source": [
    "data['copper (1.1 - 1.2)'].value_counts().sort_index(ascending=True) "
   ]
  },
  {
   "cell_type": "code",
   "execution_count": 179,
   "metadata": {},
   "outputs": [
    {
     "name": "stdout",
     "output_type": "stream",
     "text": [
      "-0.5179936754825298\n"
     ]
    }
   ],
   "source": [
    "copper = data['sodium (16 - 20)']\n",
    "drinkable = data['Drinkable']\n",
    "correlation = copper.corr(drinkable)\n",
    "print(correlation)"
   ]
  },
  {
   "cell_type": "code",
   "execution_count": 180,
   "metadata": {},
   "outputs": [
    {
     "data": {
      "text/plain": [
       "0.10    7\n",
       "0.18    1\n",
       "0.20    8\n",
       "0.40    1\n",
       "0.50    1\n",
       "0.70    1\n",
       "0.80    1\n",
       "0.90    1\n",
       "1.40    1\n",
       "1.80    1\n",
       "3.00    1\n",
       "3.20    1\n",
       "8.90    1\n",
       "Name: iron (0.1 - 0.2), dtype: int64"
      ]
     },
     "execution_count": 180,
     "metadata": {},
     "output_type": "execute_result"
    }
   ],
   "source": [
    "data['iron (0.1 - 0.2)'].value_counts().sort_index(ascending=True) "
   ]
  },
  {
   "cell_type": "code",
   "execution_count": 181,
   "metadata": {},
   "outputs": [
    {
     "name": "stdout",
     "output_type": "stream",
     "text": [
      "-0.5179936754825298\n"
     ]
    }
   ],
   "source": [
    "iron = data['sodium (16 - 20)']\n",
    "drinkable = data['Drinkable']\n",
    "correlation = iron.corr(drinkable)\n",
    "print(correlation)"
   ]
  },
  {
   "cell_type": "code",
   "execution_count": 182,
   "metadata": {},
   "outputs": [
    {
     "data": {
      "text/plain": [
       "159    1\n",
       "249    1\n",
       "250    3\n",
       "251    1\n",
       "252    2\n",
       "255    1\n",
       "257    1\n",
       "258    1\n",
       "259    2\n",
       "260    2\n",
       "269    1\n",
       "270    1\n",
       "289    1\n",
       "300    1\n",
       "309    1\n",
       "321    1\n",
       "345    1\n",
       "546    1\n",
       "598    1\n",
       "600    1\n",
       "777    1\n",
       "Name: chlorine (250 -260), dtype: int64"
      ]
     },
     "execution_count": 182,
     "metadata": {},
     "output_type": "execute_result"
    }
   ],
   "source": [
    "data['chlorine (250 -260)'].value_counts().sort_index(ascending=True) "
   ]
  },
  {
   "cell_type": "code",
   "execution_count": 183,
   "metadata": {},
   "outputs": [
    {
     "name": "stdout",
     "output_type": "stream",
     "text": [
      "-0.5241351598528635\n"
     ]
    }
   ],
   "source": [
    "chlorine = data['chlorine (250 -260)']\n",
    "drinkable = data['Drinkable']\n",
    "correlation = chlorine.corr(drinkable)\n",
    "print(correlation)"
   ]
  },
  {
   "cell_type": "markdown",
   "metadata": {},
   "source": [
    "## Part 2 - Decision Tree"
   ]
  },
  {
   "cell_type": "markdown",
   "metadata": {},
   "source": [
    "Using dataset from: https://www.kaggle.com/adityakadiwal/water-potability"
   ]
  },
  {
   "cell_type": "code",
   "execution_count": 184,
   "metadata": {},
   "outputs": [
    {
     "data": {
      "text/html": [
       "<div>\n",
       "<style scoped>\n",
       "    .dataframe tbody tr th:only-of-type {\n",
       "        vertical-align: middle;\n",
       "    }\n",
       "\n",
       "    .dataframe tbody tr th {\n",
       "        vertical-align: top;\n",
       "    }\n",
       "\n",
       "    .dataframe thead th {\n",
       "        text-align: right;\n",
       "    }\n",
       "</style>\n",
       "<table border=\"1\" class=\"dataframe\">\n",
       "  <thead>\n",
       "    <tr style=\"text-align: right;\">\n",
       "      <th></th>\n",
       "      <th>ph</th>\n",
       "      <th>Hardness</th>\n",
       "      <th>Solids</th>\n",
       "      <th>Chloramines</th>\n",
       "      <th>Sulfate</th>\n",
       "      <th>Conductivity</th>\n",
       "      <th>Organic_carbon</th>\n",
       "      <th>Trihalomethanes</th>\n",
       "      <th>Turbidity</th>\n",
       "      <th>Potability</th>\n",
       "    </tr>\n",
       "  </thead>\n",
       "  <tbody>\n",
       "    <tr>\n",
       "      <th>0</th>\n",
       "      <td>NaN</td>\n",
       "      <td>204.890455</td>\n",
       "      <td>20791.318981</td>\n",
       "      <td>7.300212</td>\n",
       "      <td>368.516441</td>\n",
       "      <td>564.308654</td>\n",
       "      <td>10.379783</td>\n",
       "      <td>86.990970</td>\n",
       "      <td>2.963135</td>\n",
       "      <td>0</td>\n",
       "    </tr>\n",
       "    <tr>\n",
       "      <th>1</th>\n",
       "      <td>3.716080</td>\n",
       "      <td>129.422921</td>\n",
       "      <td>18630.057858</td>\n",
       "      <td>6.635246</td>\n",
       "      <td>NaN</td>\n",
       "      <td>592.885359</td>\n",
       "      <td>15.180013</td>\n",
       "      <td>56.329076</td>\n",
       "      <td>4.500656</td>\n",
       "      <td>0</td>\n",
       "    </tr>\n",
       "    <tr>\n",
       "      <th>2</th>\n",
       "      <td>8.099124</td>\n",
       "      <td>224.236259</td>\n",
       "      <td>19909.541732</td>\n",
       "      <td>9.275884</td>\n",
       "      <td>NaN</td>\n",
       "      <td>418.606213</td>\n",
       "      <td>16.868637</td>\n",
       "      <td>66.420093</td>\n",
       "      <td>3.055934</td>\n",
       "      <td>0</td>\n",
       "    </tr>\n",
       "    <tr>\n",
       "      <th>3</th>\n",
       "      <td>8.316766</td>\n",
       "      <td>214.373394</td>\n",
       "      <td>22018.417441</td>\n",
       "      <td>8.059332</td>\n",
       "      <td>356.886136</td>\n",
       "      <td>363.266516</td>\n",
       "      <td>18.436524</td>\n",
       "      <td>100.341674</td>\n",
       "      <td>4.628771</td>\n",
       "      <td>0</td>\n",
       "    </tr>\n",
       "    <tr>\n",
       "      <th>4</th>\n",
       "      <td>9.092223</td>\n",
       "      <td>181.101509</td>\n",
       "      <td>17978.986339</td>\n",
       "      <td>6.546600</td>\n",
       "      <td>310.135738</td>\n",
       "      <td>398.410813</td>\n",
       "      <td>11.558279</td>\n",
       "      <td>31.997993</td>\n",
       "      <td>4.075075</td>\n",
       "      <td>0</td>\n",
       "    </tr>\n",
       "  </tbody>\n",
       "</table>\n",
       "</div>"
      ],
      "text/plain": [
       "         ph    Hardness        Solids  Chloramines     Sulfate  Conductivity  \\\n",
       "0       NaN  204.890455  20791.318981     7.300212  368.516441    564.308654   \n",
       "1  3.716080  129.422921  18630.057858     6.635246         NaN    592.885359   \n",
       "2  8.099124  224.236259  19909.541732     9.275884         NaN    418.606213   \n",
       "3  8.316766  214.373394  22018.417441     8.059332  356.886136    363.266516   \n",
       "4  9.092223  181.101509  17978.986339     6.546600  310.135738    398.410813   \n",
       "\n",
       "   Organic_carbon  Trihalomethanes  Turbidity  Potability  \n",
       "0       10.379783        86.990970   2.963135           0  \n",
       "1       15.180013        56.329076   4.500656           0  \n",
       "2       16.868637        66.420093   3.055934           0  \n",
       "3       18.436524       100.341674   4.628771           0  \n",
       "4       11.558279        31.997993   4.075075           0  "
      ]
     },
     "execution_count": 184,
     "metadata": {},
     "output_type": "execute_result"
    }
   ],
   "source": [
    "df = pd.read_csv(\"water_potability.csv\")\n",
    "df.head()"
   ]
  },
  {
   "cell_type": "code",
   "execution_count": 185,
   "metadata": {},
   "outputs": [
    {
     "name": "stdout",
     "output_type": "stream",
     "text": [
      "<class 'pandas.core.frame.DataFrame'>\n",
      "RangeIndex: 3276 entries, 0 to 3275\n",
      "Data columns (total 10 columns):\n",
      " #   Column           Non-Null Count  Dtype  \n",
      "---  ------           --------------  -----  \n",
      " 0   ph               2785 non-null   float64\n",
      " 1   Hardness         3276 non-null   float64\n",
      " 2   Solids           3276 non-null   float64\n",
      " 3   Chloramines      3276 non-null   float64\n",
      " 4   Sulfate          2495 non-null   float64\n",
      " 5   Conductivity     3276 non-null   float64\n",
      " 6   Organic_carbon   3276 non-null   float64\n",
      " 7   Trihalomethanes  3114 non-null   float64\n",
      " 8   Turbidity        3276 non-null   float64\n",
      " 9   Potability       3276 non-null   int64  \n",
      "dtypes: float64(9), int64(1)\n",
      "memory usage: 256.1 KB\n",
      "None\n"
     ]
    }
   ],
   "source": [
    "print(df.info())"
   ]
  },
  {
   "cell_type": "code",
   "execution_count": 186,
   "metadata": {},
   "outputs": [
    {
     "data": {
      "text/plain": [
       "ph                 491\n",
       "Hardness             0\n",
       "Solids               0\n",
       "Chloramines          0\n",
       "Sulfate            781\n",
       "Conductivity         0\n",
       "Organic_carbon       0\n",
       "Trihalomethanes    162\n",
       "Turbidity            0\n",
       "Potability           0\n",
       "dtype: int64"
      ]
     },
     "execution_count": 186,
     "metadata": {},
     "output_type": "execute_result"
    }
   ],
   "source": [
    "df.isna().sum()"
   ]
  },
  {
   "cell_type": "markdown",
   "metadata": {},
   "source": [
    "There are null values in ph column, sulfate column, trihalomethanes column and turbidity column. To handle these, missing columns will be filled with mean value of that particular column. "
   ]
  },
  {
   "cell_type": "code",
   "execution_count": 187,
   "metadata": {},
   "outputs": [],
   "source": [
    "df.ph.fillna(df['ph'].mean(),inplace=True)\n",
    "df.Sulfate.fillna(df['Sulfate'].mean(),inplace=True)\n",
    "df.Trihalomethanes.fillna(df['Trihalomethanes'].mean(),inplace=True)"
   ]
  },
  {
   "cell_type": "code",
   "execution_count": 188,
   "metadata": {},
   "outputs": [
    {
     "data": {
      "text/plain": [
       "ph                 0\n",
       "Hardness           0\n",
       "Solids             0\n",
       "Chloramines        0\n",
       "Sulfate            0\n",
       "Conductivity       0\n",
       "Organic_carbon     0\n",
       "Trihalomethanes    0\n",
       "Turbidity          0\n",
       "Potability         0\n",
       "dtype: int64"
      ]
     },
     "execution_count": 188,
     "metadata": {},
     "output_type": "execute_result"
    }
   ],
   "source": [
    "df.isna().sum()"
   ]
  },
  {
   "cell_type": "code",
   "execution_count": 189,
   "metadata": {},
   "outputs": [
    {
     "data": {
      "text/html": [
       "<div>\n",
       "<style scoped>\n",
       "    .dataframe tbody tr th:only-of-type {\n",
       "        vertical-align: middle;\n",
       "    }\n",
       "\n",
       "    .dataframe tbody tr th {\n",
       "        vertical-align: top;\n",
       "    }\n",
       "\n",
       "    .dataframe thead th {\n",
       "        text-align: right;\n",
       "    }\n",
       "</style>\n",
       "<table border=\"1\" class=\"dataframe\">\n",
       "  <thead>\n",
       "    <tr style=\"text-align: right;\">\n",
       "      <th></th>\n",
       "      <th>ph</th>\n",
       "      <th>Hardness</th>\n",
       "      <th>Solids</th>\n",
       "      <th>Chloramines</th>\n",
       "      <th>Sulfate</th>\n",
       "      <th>Conductivity</th>\n",
       "      <th>Organic_carbon</th>\n",
       "      <th>Trihalomethanes</th>\n",
       "      <th>Turbidity</th>\n",
       "      <th>Potability</th>\n",
       "    </tr>\n",
       "  </thead>\n",
       "  <tbody>\n",
       "    <tr>\n",
       "      <th>0</th>\n",
       "      <td>7.080795</td>\n",
       "      <td>204.890455</td>\n",
       "      <td>20791.318981</td>\n",
       "      <td>7.300212</td>\n",
       "      <td>368.516441</td>\n",
       "      <td>564.308654</td>\n",
       "      <td>10.379783</td>\n",
       "      <td>86.990970</td>\n",
       "      <td>2.963135</td>\n",
       "      <td>0</td>\n",
       "    </tr>\n",
       "    <tr>\n",
       "      <th>1</th>\n",
       "      <td>3.716080</td>\n",
       "      <td>129.422921</td>\n",
       "      <td>18630.057858</td>\n",
       "      <td>6.635246</td>\n",
       "      <td>333.775777</td>\n",
       "      <td>592.885359</td>\n",
       "      <td>15.180013</td>\n",
       "      <td>56.329076</td>\n",
       "      <td>4.500656</td>\n",
       "      <td>0</td>\n",
       "    </tr>\n",
       "    <tr>\n",
       "      <th>2</th>\n",
       "      <td>8.099124</td>\n",
       "      <td>224.236259</td>\n",
       "      <td>19909.541732</td>\n",
       "      <td>9.275884</td>\n",
       "      <td>333.775777</td>\n",
       "      <td>418.606213</td>\n",
       "      <td>16.868637</td>\n",
       "      <td>66.420093</td>\n",
       "      <td>3.055934</td>\n",
       "      <td>0</td>\n",
       "    </tr>\n",
       "    <tr>\n",
       "      <th>3</th>\n",
       "      <td>8.316766</td>\n",
       "      <td>214.373394</td>\n",
       "      <td>22018.417441</td>\n",
       "      <td>8.059332</td>\n",
       "      <td>356.886136</td>\n",
       "      <td>363.266516</td>\n",
       "      <td>18.436524</td>\n",
       "      <td>100.341674</td>\n",
       "      <td>4.628771</td>\n",
       "      <td>0</td>\n",
       "    </tr>\n",
       "    <tr>\n",
       "      <th>4</th>\n",
       "      <td>9.092223</td>\n",
       "      <td>181.101509</td>\n",
       "      <td>17978.986339</td>\n",
       "      <td>6.546600</td>\n",
       "      <td>310.135738</td>\n",
       "      <td>398.410813</td>\n",
       "      <td>11.558279</td>\n",
       "      <td>31.997993</td>\n",
       "      <td>4.075075</td>\n",
       "      <td>0</td>\n",
       "    </tr>\n",
       "  </tbody>\n",
       "</table>\n",
       "</div>"
      ],
      "text/plain": [
       "         ph    Hardness        Solids  Chloramines     Sulfate  Conductivity  \\\n",
       "0  7.080795  204.890455  20791.318981     7.300212  368.516441    564.308654   \n",
       "1  3.716080  129.422921  18630.057858     6.635246  333.775777    592.885359   \n",
       "2  8.099124  224.236259  19909.541732     9.275884  333.775777    418.606213   \n",
       "3  8.316766  214.373394  22018.417441     8.059332  356.886136    363.266516   \n",
       "4  9.092223  181.101509  17978.986339     6.546600  310.135738    398.410813   \n",
       "\n",
       "   Organic_carbon  Trihalomethanes  Turbidity  Potability  \n",
       "0       10.379783        86.990970   2.963135           0  \n",
       "1       15.180013        56.329076   4.500656           0  \n",
       "2       16.868637        66.420093   3.055934           0  \n",
       "3       18.436524       100.341674   4.628771           0  \n",
       "4       11.558279        31.997993   4.075075           0  "
      ]
     },
     "execution_count": 189,
     "metadata": {},
     "output_type": "execute_result"
    }
   ],
   "source": [
    "df.head()"
   ]
  },
  {
   "cell_type": "code",
   "execution_count": 199,
   "metadata": {},
   "outputs": [],
   "source": [
    "feature_cols = ['ph', 'Hardness', 'Solids', 'Chloramines', 'Sulfate', \n",
    "                'Conductivity', 'Organic_carbon', 'Trihalomethanes', 'Turbidity']\n",
    "X = df[feature_cols]\n",
    "y = df.Potability"
   ]
  },
  {
   "cell_type": "code",
   "execution_count": 200,
   "metadata": {},
   "outputs": [],
   "source": [
    "X_train, X_test, y_train, y_test = train_test_split(X, y, test_size = 0.3, random_state=360) \n",
    "\n",
    "#Splitting into 70% for training set and 30% for test set"
   ]
  },
  {
   "cell_type": "code",
   "execution_count": 201,
   "metadata": {},
   "outputs": [],
   "source": [
    "dtclf = DecisionTreeClassifier(criterion=\"entropy\", max_depth=5)\n",
    "dtclf = dtclf.fit(X_train,y_train)\n",
    "y_pred = dtclf.predict(X_test)"
   ]
  },
  {
   "cell_type": "code",
   "execution_count": 202,
   "metadata": {},
   "outputs": [
    {
     "name": "stdout",
     "output_type": "stream",
     "text": [
      "Decision Tree has an accuracy of 0.6541200406917599\n"
     ]
    }
   ],
   "source": [
    "print(\"Decision Tree has an accuracy of\", metrics.accuracy_score(y_test, y_pred))"
   ]
  }
 ],
 "metadata": {
  "kernelspec": {
   "display_name": "Python 3",
   "language": "python",
   "name": "python3"
  },
  "language_info": {
   "codemirror_mode": {
    "name": "ipython",
    "version": 3
   },
   "file_extension": ".py",
   "mimetype": "text/x-python",
   "name": "python",
   "nbconvert_exporter": "python",
   "pygments_lexer": "ipython3",
   "version": "3.8.5"
  }
 },
 "nbformat": 4,
 "nbformat_minor": 4
}
